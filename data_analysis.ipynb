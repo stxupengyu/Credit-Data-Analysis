{
 "cells": [
  {
   "cell_type": "code",
   "execution_count": 1,
   "metadata": {},
   "outputs": [],
   "source": [
    "import pandas as pd\n",
    "import numpy as np\n",
    "import seaborn as sns\n",
    "import matplotlib.pyplot as plt\n",
    "get_in=pd.read_excel('附件1：123家有信贷记录企业的相关数据.xlsx',1)\n",
    "get_out=pd.read_excel('附件1：123家有信贷记录企业的相关数据.xlsx',2)"
   ]
  },
  {
   "cell_type": "code",
   "execution_count": 2,
   "metadata": {},
   "outputs": [],
   "source": [
    "#汇总每个公司的数据 略慢\n",
    "def sumfun(get_in,name):#'E%d'%1\n",
    "    record=[]\n",
    "    for i in range(len(get_in)):\n",
    "        if(get_in['企业代号'][i]==name):\n",
    "            record.append(get_in['价税合计'][i])\n",
    "    return sum(record)\n",
    "name_list=get_in['企业代号'].drop_duplicates()\n",
    "name_list=name_list.values\n",
    "get_in_price=[]\n",
    "for name in name_list:\n",
    "    get_in_price.append(sumfun(get_in,name))\n",
    "get_out_price=[]\n",
    "for name in name_list:\n",
    "    get_out_price.append(sumfun(get_out,name))    \n",
    "get_in_price,get_out_price=np.array(get_in_price),np.array(get_out_price)"
   ]
  },
  {
   "cell_type": "code",
   "execution_count": 24,
   "metadata": {},
   "outputs": [
    {
     "data": {
      "image/png": "[encoded data removed]",
      "text/plain": [
       "<Figure size 1440x72 with 2 Axes>"
      ]
     },
     "metadata": {
      "needs_background": "light"
     },
     "output_type": "display_data"
    }
   ],
   "source": [
    "#画图 num控制从第几个公司开始 因为前几个公司的值太大 会影响热力图效果\n",
    "num=10\n",
    "dataset=pd.DataFrame([get_in_price,get_out_price])\n",
    "plt.figure(figsize=(20,1))\n",
    "sns.heatmap(dataset.iloc[:,num:],annot=False,cmap=\"YlGnBu\")\n",
    "plt.show()#展示下原始数据集"
   ]
  },
  {
   "cell_type": "code",
   "execution_count": 18,
   "metadata": {},
   "outputs": [],
   "source": [
    "#导出数据到result.csv\n",
    "record=pd.DataFrame([name_list,get_in_price,get_out_price,get_in_price-get_out_price],index=['name','get_in','get_out','get_in-get_out'])\n",
    "record.to_csv('results.csv')"
   ]
  },
  {
   "cell_type": "code",
   "execution_count": null,
   "metadata": {},
   "outputs": [],
   "source": []
  },
  {
   "cell_type": "code",
   "execution_count": null,
   "metadata": {},
   "outputs": [],
   "source": []
  },
  {
   "cell_type": "code",
   "execution_count": null,
   "metadata": {},
   "outputs": [],
   "source": []
  },
  {
   "cell_type": "code",
   "execution_count": null,
   "metadata": {},
   "outputs": [],
   "source": []
  },
  {
   "cell_type": "code",
   "execution_count": null,
   "metadata": {},
   "outputs": [],
   "source": []
  },
  {
   "cell_type": "code",
   "execution_count": null,
   "metadata": {},
   "outputs": [],
   "source": []
  },
  {
   "cell_type": "code",
   "execution_count": null,
   "metadata": {},
   "outputs": [],
   "source": []
  }
 ],
 "metadata": {
  "kernelspec": {
   "display_name": "Python 3",
   "language": "python",
   "name": "python3"
  },
  "language_info": {
   "codemirror_mode": {
    "name": "ipython",
    "version": 3
   },
   "file_extension": ".py",
   "mimetype": "text/x-python",
   "name": "python",
   "nbconvert_exporter": "python",
   "pygments_lexer": "ipython3",
   "version": "3.6.10"
  }
 },
 "nbformat": 4,
 "nbformat_minor": 4
}
